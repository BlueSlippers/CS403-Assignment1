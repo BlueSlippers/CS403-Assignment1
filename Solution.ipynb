{
 "cells": [
  {
   "cell_type": "code",
   "execution_count": 6,
   "metadata": {
    "collapsed": true
   },
   "outputs": [],
   "source": [
    "import pandas as pd\n",
    "import numpy as np\n"
   ]
  },
  {
   "cell_type": "code",
   "execution_count": 16,
   "metadata": {
    "collapsed": true
   },
   "outputs": [],
   "source": [
    "def get_feature_matrix(file_path):\n",
    "    feature_matrix = pd.read_csv(file_path)\n",
    "    \n",
    "    feature_matrix['date'] = pd.to_datetime(feature_matrix.date)\n",
    "    feature_matrix['month'] = pd.DatetimeIndex(feature_matrix['date']).month\n",
    "    feature_matrix['hour'] = pd.DatetimeIndex(feature_matrix['date']).hour\n",
    "    \n",
    "    feature_matrix['0'] = feature_matrix['hour']==0\n",
    "    feature_matrix['1'] = feature_matrix['hour']==1\n",
    "    feature_matrix['2'] = feature_matrix['hour']==2\n",
    "    feature_matrix['3'] = feature_matrix['hour']==3\n",
    "    feature_matrix['4'] = feature_matrix['hour']==4\n",
    "    feature_matrix['5'] = feature_matrix['hour']==5\n",
    "    feature_matrix['6'] = feature_matrix['hour']==6\n",
    "    feature_matrix['7'] = feature_matrix['hour']==7\n",
    "    feature_matrix['8'] = feature_matrix['hour']==8\n",
    "    feature_matrix['9'] = feature_matrix['hour']==9\n",
    "    feature_matrix['10'] = feature_matrix['hour']==10\n",
    "    feature_matrix['11'] = feature_matrix['hour']==11\n",
    "    feature_matrix['12'] = feature_matrix['hour']==12\n",
    "    feature_matrix['13'] = feature_matrix['hour']==13\n",
    "    feature_matrix['14'] = feature_matrix['hour']==14\n",
    "    feature_matrix['15'] = feature_matrix['hour']==15\n",
    "    feature_matrix['16'] = feature_matrix['hour']==16\n",
    "    feature_matrix['17'] = feature_matrix['hour']==17\n",
    "    feature_matrix['18'] = feature_matrix['hour']==18\n",
    "    feature_matrix['19'] = feature_matrix['hour']==19\n",
    "    feature_matrix['20'] = feature_matrix['hour']==20\n",
    "    feature_matrix['21'] = feature_matrix['hour']==21\n",
    "    feature_matrix['22'] = feature_matrix['hour']==22\n",
    "    feature_matrix['23'] = feature_matrix['hour']==23\n",
    "    \n",
    "    feature_matrix['Jan'] = feature_matrix['month']==1\n",
    "    feature_matrix['Feb'] = feature_matrix['month']==2\n",
    "    feature_matrix['Mar'] = feature_matrix['month']==3\n",
    "    feature_matrix['Apr'] = feature_matrix['month']==4\n",
    "    feature_matrix['May'] = feature_matrix['month']==5\n",
    "    \n",
    "    \n",
    "    \n",
    "    feature_matrix.drop(['Output'],axis =1)\n",
    "    feature_matrix.drop(['date'],axis =1)\n",
    "    feature_matrix.drop(['month'],axis =1)\n",
    "    feature_matrix.drop(['hour'],axis =1)\n",
    "    \n",
    "    return np.asarray(feature_matrix)"
   ]
  },
  {
   "cell_type": "code",
   "execution_count": 18,
   "metadata": {
    "collapsed": false
   },
   "outputs": [],
   "source": [
    "def get_output(file_path):\n",
    "    required_matrix = pd.read_csv(file_path)\n",
    "    required_output = required_matrix['Output']\n",
    "    \n",
    "    return np.asarray(required_output)\n",
    "    "
   ]
  },
  {
   "cell_type": "code",
   "execution_count": 20,
   "metadata": {
    "collapsed": false
   },
   "outputs": [
    {
     "name": "stdout",
     "output_type": "stream",
     "text": [
      "(13000,)\n"
     ]
    }
   ],
   "source": [
    "print get_output(\"train.csv\").shape"
   ]
  },
  {
   "cell_type": "code",
   "execution_count": null,
   "metadata": {
    "collapsed": true
   },
   "outputs": [],
   "source": []
  }
 ],
 "metadata": {
  "kernelspec": {
   "display_name": "Python 2",
   "language": "python",
   "name": "python2"
  },
  "language_info": {
   "codemirror_mode": {
    "name": "ipython",
    "version": 2
   },
   "file_extension": ".py",
   "mimetype": "text/x-python",
   "name": "python",
   "nbconvert_exporter": "python",
   "pygments_lexer": "ipython2",
   "version": "2.7.13"
  }
 },
 "nbformat": 4,
 "nbformat_minor": 0
}
