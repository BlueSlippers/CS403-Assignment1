{
 "cells": [
  {
   "cell_type": "code",
   "execution_count": 1,
   "metadata": {
    "collapsed": true
   },
   "outputs": [],
   "source": [
    "import pandas as pd\n",
    "import numpy as np\n"
   ]
  },
  {
   "cell_type": "code",
   "execution_count": 2,
   "metadata": {
    "collapsed": false
   },
   "outputs": [
    {
     "name": "stdout",
     "output_type": "stream",
     "text": [
      "[[ 23.22573474  39.33818847  21.65771968 ...,  38.91250021   3.74605678\n",
      "    1.        ]\n",
      " [ 21.40319971  37.2011115   19.19042623 ...,  41.20907086  -3.75159758\n",
      "    1.        ]\n",
      " [ 22.21421001  35.59389041  16.87174725 ...,  32.30811304  -0.51049232\n",
      "    1.        ]\n",
      " ..., \n",
      " [ 19.77452237  40.87973052  18.30195291 ...,  41.40858476  -5.67756846\n",
      "    1.        ]\n",
      " [ 22.29259924  35.93862881  19.1088886  ...,  64.35647603   3.50670238\n",
      "    1.        ]\n",
      " [ 21.64218732  40.40674941  19.54460914 ...,  27.82276816   7.58155593\n",
      "    1.        ]]\n"
     ]
    }
   ],
   "source": [
    "\n",
    "\n",
    "def get_feature_matrix(file_path):\n",
    "    feature_matrix = pd.read_csv(file_path)\n",
    "    \n",
    "    feature_matrix['date'] = pd.to_datetime(feature_matrix.date)\n",
    "    feature_matrix['month'] = pd.DatetimeIndex(feature_matrix['date']).month\n",
    "    feature_matrix['hour'] = pd.DatetimeIndex(feature_matrix['date']).hour\n",
    "    '''\n",
    "    feature_matrix['0'] = feature_matrix['hour']==0\n",
    "    feature_matrix['1'] = feature_matrix['hour']==1\n",
    "    feature_matrix['2'] = feature_matrix['hour']==2\n",
    "    feature_matrix['3'] = feature_matrix['hour']==3\n",
    "    feature_matrix['4'] = feature_matrix['hour']==4\n",
    "    feature_matrix['5'] = feature_matrix['hour']==5\n",
    "    feature_matrix['6'] = feature_matrix['hour']==6\n",
    "    feature_matrix['7'] = feature_matrix['hour']==7\n",
    "    feature_matrix['8'] = feature_matrix['hour']==8\n",
    "    feature_matrix['9'] = feature_matrix['hour']==9\n",
    "    feature_matrix['10'] = feature_matrix['hour']==10\n",
    "    feature_matrix['11'] = feature_matrix['hour']==11\n",
    "    feature_matrix['12'] = feature_matrix['hour']==12\n",
    "    feature_matrix['13'] = feature_matrix['hour']==13\n",
    "    feature_matrix['14'] = feature_matrix['hour']==14\n",
    "    feature_matrix['15'] = feature_matrix['hour']==15\n",
    "    feature_matrix['16'] = feature_matrix['hour']==16\n",
    "    feature_matrix['17'] = feature_matrix['hour']==17\n",
    "    feature_matrix['18'] = feature_matrix['hour']==18\n",
    "    feature_matrix['19'] = feature_matrix['hour']==19\n",
    "    feature_matrix['20'] = feature_matrix['hour']==20\n",
    "    feature_matrix['21'] = feature_matrix['hour']==21\n",
    "    feature_matrix['22'] = feature_matrix['hour']==22\n",
    "    feature_matrix['23'] = feature_matrix['hour']==23\n",
    "    \n",
    "    feature_matrix['Jan'] = feature_matrix['month']==1\n",
    "    feature_matrix['Feb'] = feature_matrix['month']==2\n",
    "    feature_matrix['Mar'] = feature_matrix['month']==3\n",
    "    feature_matrix['Apr'] = feature_matrix['month']==4\n",
    "    feature_matrix['May'] = feature_matrix['month']==5\n",
    "    '''\n",
    "    feature_matrix['ones'] = 1\n",
    "    #feature_matrix.iloc[:,:] = feature_matrix.astype(int)\n",
    "    \n",
    "    try:\n",
    "        return_matrix = feature_matrix.drop(['Output'],inplace=True,axis=1)\n",
    "    except ValueError:       \n",
    "        pass\n",
    "    \n",
    "    matrix = feature_matrix.drop(['Id','date','month','hour'],axis =1)\n",
    "    \n",
    "    #matrix = matrix*1./(np.max(matrix, axis=0)/10)\n",
    "   \n",
    " \n",
    "    #return np.asarray(feature_matrix)[:,2\n",
    "    return np.asarray(matrix)\n",
    "  \n",
    "\n",
    "print get_feature_matrix(\"train.csv\")\n",
    "\n",
    "\n",
    "    "
   ]
  },
  {
   "cell_type": "code",
   "execution_count": 3,
   "metadata": {
    "collapsed": false
   },
   "outputs": [],
   "source": [
    "def get_output(file_path):\n",
    "    required_matrix = pd.read_csv(file_path)\n",
    "    required_output = required_matrix['Output']\n",
    "    \n",
    "    required_output = required_output*1./(np.max(required_output, axis=0)/10)\n",
    "    \n",
    "    return np.asarray(required_output)\n",
    "\n"
   ]
  },
  {
   "cell_type": "code",
   "execution_count": 4,
   "metadata": {
    "collapsed": false
   },
   "outputs": [],
   "source": [
    "def get_weight_vector(feature_matrix, output, lambda_reg, p):\n",
    "    # Set initial weights\n",
    "    weights = np.ones(feature_matrix.shape[1])\n",
    "    error_list = []\n",
    "\n",
    "   \n",
    "\n",
    "    def regularization_portion(lambda_reg, p_, weights):\n",
    "\n",
    "        if p_ == 1:\n",
    "\n",
    "            r_error = np.dot(lambda_reg, np.ones(weights.shape[0]))\n",
    "            r_error[-1] = 0\n",
    "\n",
    "            return r_error\n",
    "        elif p_ == 2:\n",
    "\n",
    "            r_error = np.dot((lambda_reg / (np.linalg.norm(abs(weights)))), abs(weights))\n",
    "            r_error[-1] = 0\n",
    "\n",
    "            return r_error\n",
    "\n",
    "        else:\n",
    "\n",
    "            numerator = lambda_reg * ((((abs(weights)) ** p).sum(axis=0)) ** (1 / p))\n",
    "            denominator = ((abs(weights)) ** p).sum(axis=0)\n",
    "\n",
    "            r_error = np.dot((numerator / denominator), (abs(weights) ** (p - 1)))\n",
    "            r_error[-1] = 0\n",
    "\n",
    "            return r_error\n",
    "\n",
    "    def sq_error_portion(features, weights, output):\n",
    "\n",
    "        error = np.dot((np.dot(features, weights) - output), features)\n",
    "        return error\n",
    "\n",
    "    alpha = 0.1\n",
    "    counter = 0\n",
    "    for x in range(3):\n",
    "        for features_, output_ in zip(feature_matrix, output):\n",
    "\n",
    "            grad = sq_error_portion(features_, weights, output_) + regularization_portion(lambda_reg, p, weights)\n",
    "            #print \"Current error\"\n",
    "            #print grad\n",
    "            #print \"-------\"\n",
    "\n",
    "            weights = weights - np.dot(alpha, grad)\n",
    "            \n",
    "\n",
    "            RMSE = np.sqrt((abs(np.dot(feature_matrix, weights) - output).sum()) / (feature_matrix.shape[0]))\n",
    "            \n",
    "            error_list.append(RMSE)\n",
    "            \n",
    "\n",
    "\n",
    "\n",
    "\n",
    "\n",
    "    #deviation = np.sqrt((abs(np.dot(feature_matrix, weights) - output).sum()) / 8000)\n",
    "    #print deviation\n",
    "    return weights"
   ]
  },
  {
   "cell_type": "code",
   "execution_count": 10,
   "metadata": {
    "collapsed": false
   },
   "outputs": [
    {
     "name": "stderr",
     "output_type": "stream",
     "text": [
      "/home/alok/anaconda2/envs/gl-env/lib/python2.7/site-packages/ipykernel/__main__.py:48: RuntimeWarning: invalid value encountered in subtract\n"
     ]
    }
   ],
   "source": [
    "\n",
    "\n",
    "\n",
    "train_data = get_feature_matrix(\"train.csv\")[:8000]\n",
    "test_data = get_feature_matrix(\"train.csv\")[8000:]\n",
    "\n",
    "\n",
    "train_results = get_output(\"train.csv\")[:8000]\n",
    "test_results = get_output(\"train.csv\")[8000:]\n",
    "\n",
    "final_weights = get_weight_vector(train_data,train_results,1,2)\n",
    "#final_weights.shape\n",
    "#print \"FINAL ! ! !\"\n",
    "#print np.sqrt((abs(np.dot(test_data, final_weights) - test_results).sum()) / 5000)\n"
   ]
  },
  {
   "cell_type": "code",
   "execution_count": null,
   "metadata": {
    "collapsed": false
   },
   "outputs": [],
   "source": []
  },
  {
   "cell_type": "code",
   "execution_count": null,
   "metadata": {
    "collapsed": true
   },
   "outputs": [],
   "source": []
  }
 ],
 "metadata": {
  "kernelspec": {
   "display_name": "Python 2",
   "language": "python",
   "name": "python2"
  },
  "language_info": {
   "codemirror_mode": {
    "name": "ipython",
    "version": 2
   },
   "file_extension": ".py",
   "mimetype": "text/x-python",
   "name": "python",
   "nbconvert_exporter": "python",
   "pygments_lexer": "ipython2",
   "version": "2.7.13"
  }
 },
 "nbformat": 4,
 "nbformat_minor": 0
}
